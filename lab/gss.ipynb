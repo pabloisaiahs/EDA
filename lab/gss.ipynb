{
 "cells": [
  {
   "cell_type": "markdown",
   "metadata": {},
   "source": [
    "## EDA LAB\n",
    "\n",
    "The General Social Survey (GSS) is a bi-annual nationally representative survey of Americans, with almost 7000 different questions asked since the survey began in the 1970s. It has straightforward questions about respondents' demographic information, but also questions like \"Does your job regularly require you to perform repetitive or forceful hand movements or involve awkward postures?\" or \"How often do the demands of your job interfere with your family life?\" There are a variety of controversial questions. No matter what you're curious about, there's something interesting in here to check out. The codebook is 904 pages (use CTRL+F to search it).\n",
    "\n",
    "The data and codebook are available at:\n",
    "https://gss.norc.org/us/en/gss/get-the-data.html\n",
    "\n",
    "The datasets are so large that it might make sense to pick the variables you want, and then download just those variables from:\n",
    "https://gssdataexplorer.norc.org/variables/vfilter\n",
    "\n",
    "Here is your task:\n",
    "1. Download a small (5-15) set of variables of interest.\n",
    "2. Write a short description of the data you chose, and why. (1 page)\n",
    "3. Load the data using Pandas. Clean them up for EDA. Do this in a notebook with comments or markdown chunks explaining your choices.\n",
    "4. Produce some numeric summaries and visualizations. (1-3 pages)\n",
    "5. Describe your findings in 1-2 pages.\n",
    "6. If you have other content that you think absolutely must be included, you can include it in an appendix of any length.\n",
    "\n",
    "For example, you might want to look at how aspects of a person's childhood family are correlated or not with their career or family choices as an adult. Or how political or religious affiliations correlate with drug use or sexual practices. It's an extremely wide-ranging survey.\n",
    "\n",
    "Feel free to work with other people in groups, and ask questions!"
   ]
  }
 ],
 "metadata": {
  "language_info": {
   "name": "python"
  }
 },
 "nbformat": 4,
 "nbformat_minor": 2
}
